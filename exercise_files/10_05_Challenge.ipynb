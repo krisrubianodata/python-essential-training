{
 "cells": [
  {
   "cell_type": "markdown",
   "id": "5ecfaeb8",
   "metadata": {},
   "source": [
    "## ASCII Art Compression\n",
    "\n"
   ]
  },
  {
   "cell_type": "markdown",
   "id": "9784ddfc",
   "metadata": {},
   "source": [
    "<strong>Compress a file and expand it to its original text</strong>\n",
    "\n",
    "This challenge builds off of the challenge from Chapter 4, \"Encoding ASCII art.\" If it's been a little while, then you may want to review your solution from that exercise. Here, I've included my solutions for the <code>encodeString</code> and <code>decodeString</code> functions, but you can feel free to use your own as well."
   ]
  },
  {
   "cell_type": "markdown",
   "id": "d118453c",
   "metadata": {},
   "source": [
    "<strong>Your task</strong>\n",
    "\n",
    "Create two new functions: <code>encodeFile</code> and <code>decodeFile</code>.\n",
    "\n",
    "<code>encodeFile</code> opens a file containing an ASCII art smiley face, performs some modification to the data in the file, and writes that data to a new file. The new file size should be smaller than the original file size.\n",
    "\n",
    "<code>decodeFile</code> opens the file and performs some reverse of the original modification to expand the data in the file to its original form. It then returns the original string.\n",
    "\n",
    "In the ASCII art provided, the original file size is 2,749 bytes. Ideally, your new file should be at <em>most</em> 2,748 bytes. If you can get your new file just a little bit smaller, you win; however, can you get your new file even smaller? What's the smallest you can possibly get this new file?"
   ]
  },
  {
   "cell_type": "markdown",
   "id": "3391b40c",
   "metadata": {},
   "source": [
    "<strong>Parameters</strong>\n",
    "\n",
    "<code><strong>filename</strong></code>: The filename you must open in order to perform the required file operation\n",
    "\n",
    "<code><strong>newFilename</strong></code>: The filename you must save the modified file to in the <code>encodeFile</code> function"
   ]
  },
  {
   "cell_type": "markdown",
   "id": "c7b17dfa",
   "metadata": {},
   "source": [
    "<strong>Result</strong>\n",
    "\n",
    "<code>decodeFile</code> must return the \"decoded\" (uncompressed) data string."
   ]
  },
  {
   "cell_type": "code",
   "execution_count": 1,
   "id": "3dbbf2ba",
   "metadata": {},
   "outputs": [],
   "source": [
    "# Python code​​​​​​‌​‌‌‌​​‌​​​​​​​​‌‌​‌​‌‌​‌ below\n",
    "import json \n",
    "\n",
    "def encodeString(stringVal):\n",
    "    encodedList = []\n",
    "    prevChar = None\n",
    "    count = 0\n",
    "    for char in stringVal:\n",
    "        if prevChar != char and prevChar is not None:\n",
    "            encodedList.append((prevChar, count))\n",
    "            count = 0\n",
    "        prevChar = char\n",
    "        count = count + 1\n",
    "    encodedList.append((prevChar, count))\n",
    "    return encodedList\n",
    "\n",
    "def decodeString(encodedList):\n",
    "    decodedStr = ''\n",
    "    for item in encodedList:\n",
    "        decodedStr = decodedStr + item[0] * item[1]\n",
    "    return decodedStr\n",
    "\n",
    "# The filename that will be passed to this function\n",
    "# is 10_04_challenge_art.txt\n",
    "def encodeFile(filename, newFilename):\n",
    "    # Your code goes here.\n",
    "    with open(filename) as f:\n",
    "        data = encodeString(f.read())\n",
    "    output = bytearray()\n",
    "    for item in data:\n",
    "        output.extend(bytes(item[0], \"utf-8\"))\n",
    "        output.extend(item[1].to_bytes(1, \"big\"))\n",
    "    with open(newFilename, \"wb\") as binary_file:\n",
    "        binary_file.write(output)\n",
    "\n",
    "def decodeFile(filename):\n",
    "    # Your code also goes here.\n",
    "    with open(filename, \"rb\") as f:\n",
    "        data = f.read()\n",
    "        bytePairs = [data[i:i+2] for i in range(0, len(data), 2)]\n",
    "        encodedList = []\n",
    "        for bytePair in bytePairs:\n",
    "            encodedList.append((bytePair[:1].decode(\"utf-8\"), int.from_bytes(bytePair[1:], \"big\")))\n",
    "        return decodeString(encodedList)"
   ]
  },
  {
   "cell_type": "code",
   "execution_count": null,
   "id": "316e7c24",
   "metadata": {},
   "outputs": [],
   "source": [
    "original_filesize = os.path.getsize(\"10_04_challenge_art.txt\")\n",
    "print(f'Original file size: {original_filesize}')\n",
    "Answer.encodeFile('10_04_challenge_art.txt', '10_04_challenge_art_encoded.txt')\n",
    "\n",
    "new_filesize = os.path.getsize(\"10_04_challenge_art_encoded.txt\")\n",
    "print(f'New file size: {new_filesize}')\n",
    "decoded = Answer.decodeFile('10_04_challenge_art_encoded.txt')\n",
    "print(decoded)"
   ]
  }
 ],
 "metadata": {
  "kernelspec": {
   "display_name": "Python 3 (ipykernel)",
   "language": "python",
   "name": "python3"
  },
  "language_info": {
   "codemirror_mode": {
    "name": "ipython",
    "version": 3
   },
   "file_extension": ".py",
   "mimetype": "text/x-python",
   "name": "python",
   "nbconvert_exporter": "python",
   "pygments_lexer": "ipython3",
   "version": "3.12.1"
  }
 },
 "nbformat": 4,
 "nbformat_minor": 5
}
