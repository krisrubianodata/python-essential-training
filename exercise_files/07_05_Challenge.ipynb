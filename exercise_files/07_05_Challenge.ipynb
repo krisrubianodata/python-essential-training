{
 "cells": [
  {
   "cell_type": "markdown",
   "id": "6aa3058e",
   "metadata": {},
   "source": [
    "## Drawing shapes"
   ]
  },
  {
   "cell_type": "markdown",
   "id": "5af7d03e",
   "metadata": {},
   "source": [
    "You're provided with a base <code>Shape</code> class, and a <code>Square</code> class which extends it. You can see how the <code>Square</code> class works by modifying the test code:\n",
    "\n",
    "```\n",
    "s = Answer.Square()\n",
    "s.print()\n",
    "```\n",
    "\n",
    "The output is an ASCII art square:\n",
    "\n",
    "```\n",
    "#####\n",
    "#####\n",
    "#####\n",
    "#####\n",
    "#####\n",
    "```"
   ]
  },
  {
   "cell_type": "markdown",
   "id": "904577f5",
   "metadata": {},
   "source": [
    "<b>Your task</b>\n",
    "\n",
    "<strong>Your task<br></strong>Fill in the <code>class Triangle</code> to print a triangle to the console. Can you print a right-angle triangle? How about an equilateral (or, equilateral-ish) triangle?\n",
    "\n",
    "Try modifying the height and width of your triangle as well. Feel free to change how the base class is called! For example, you may want to make height and width instance attributes that are passed into the constructor, rather than static attributes on the base class."
   ]
  },
  {
   "cell_type": "code",
   "execution_count": 1,
   "id": "a6818348",
   "metadata": {},
   "outputs": [],
   "source": [
    "class Shape:\n",
    "\twidth = 5\n",
    "\theight = 5\n",
    "\tprintChar = '#'\n",
    "\n",
    "\tdef printRow(self, i):\n",
    "\t\traise NotImplementedError(\"Will be implemented by children extending this class\")\n",
    "\n",
    "\tdef print(self):\n",
    "\t\tfor i in range(self.height):\n",
    "\t\t\tself.printRow(i)\n",
    "\n",
    "\n",
    "class Square(Shape):\n",
    "\tdef printRow(self, i):\n",
    "\t\tprint(self.printChar * self.width)\n",
    "\n",
    "class Triangle(Shape):\n",
    "\theight = 5\n",
    "\twidth = 2 * height\n",
    "\n",
    "\tdef printRow(self, i):\n",
    "\t\ttrianglewidth = i * 2 + 1\n",
    "\t\tpadding = int((self.width - trianglewidth)/2)\n",
    "\t\tprint(\" \" * padding + self.printChar * trianglewidth)"
   ]
  },
  {
   "cell_type": "code",
   "execution_count": 2,
   "id": "e3fb6b4e",
   "metadata": {},
   "outputs": [
    {
     "name": "stdout",
     "output_type": "stream",
     "text": [
      "    #\n",
      "   ###\n",
      "  #####\n",
      " #######\n",
      "#########\n"
     ]
    }
   ],
   "source": [
    "t = Triangle()\n",
    "t.print()"
   ]
  }
 ],
 "metadata": {
  "kernelspec": {
   "display_name": "Python 3 (ipykernel)",
   "language": "python",
   "name": "python3"
  },
  "language_info": {
   "codemirror_mode": {
    "name": "ipython",
    "version": 3
   },
   "file_extension": ".py",
   "mimetype": "text/x-python",
   "name": "python",
   "nbconvert_exporter": "python",
   "pygments_lexer": "ipython3",
   "version": "3.12.1"
  },
  "vscode": {
   "interpreter": {
    "hash": "949777d72b0d2535278d3dc13498b2535136f6dfe0678499012e853ee9abcab1"
   }
  }
 },
 "nbformat": 4,
 "nbformat_minor": 5
}
