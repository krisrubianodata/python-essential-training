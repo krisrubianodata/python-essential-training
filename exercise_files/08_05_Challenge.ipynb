{
 "cells": [
  {
   "cell_type": "markdown",
   "id": "6aa3058e",
   "metadata": {},
   "source": [
    "## Bad arguments"
   ]
  },
  {
   "cell_type": "markdown",
   "id": "5af7d03e",
   "metadata": {},
   "source": [
    "<strong>Write a custom annotation that handles bad arguments</strong>\n",
    "\n",
    "There are many ways to detect situations in which errors should be raised, and then raise them. Here, you will fill in a custom annotation called <code>handleNonIntArguments</code> that raises a custom exception called <code>NonIntArgumentException</code> if any of the arguments passed to a function are not integers."
   ]
  },
  {
   "cell_type": "markdown",
   "id": "904577f5",
   "metadata": {},
   "source": [
    "<strong>Your task</strong>\n",
    "\n",
    "<ul>\n",
    "<li>Create a custom exception called <code><span>NonIntArgumentException</span></code>.</li>\n",
    "<li><span>Fill in the wrapper function in the <code>handleNonIntArguments</code> function to act as an annotation.</span></li>\n",
    "<li><span>Check the test code to make sure you understand how this annotation is being used.</span></li>\n",
    "</ul>"
   ]
  },
  {
   "cell_type": "markdown",
   "id": "e2f2fa41",
   "metadata": {},
   "source": [
    "<strong>Parameters</strong>\n",
    "\n",
    "<code><strong>func</strong></code>: The function that will be called with the arguments. In this case, the function in the test code is <code>sum</code>.\n",
    "\n",
    "<code><strong>*args</strong></code>: The arguments that will be passed to <code>func</code>. Remember that <code>args</code> alone, without the asterisk, is a tuple of values."
   ]
  },
  {
   "cell_type": "markdown",
   "id": "78165f37",
   "metadata": {},
   "source": [
    "<strong>Result</strong>\n",
    "\n",
    "Make sure that your wrapper actually returns the result of the function that's being called."
   ]
  },
  {
   "cell_type": "code",
   "execution_count": null,
   "id": "a6818348",
   "metadata": {},
   "outputs": [],
   "source": [
    "# Python code​​​​​​‌​‌‌‌​​​‌‌‌​​‌​​​​​‌​‌‌‌‌ below\n",
    "class NonIntArgumentException(Exception):\n",
    "    pass\n",
    "\n",
    "def handleNonIntArguments(func):\n",
    "    def wrapper(*args):\n",
    "        for item in args:\n",
    "            if type(item) is not int:\n",
    "                raise NonIntArgumentException()\n",
    "        return func(*args)\n",
    "    return wrapper"
   ]
  },
  {
   "cell_type": "code",
   "execution_count": null,
   "id": "881d4acb",
   "metadata": {},
   "outputs": [],
   "source": [
    "@handleNonIntArguments\n",
    "def sum(a, b, c):\n",
    "    return a + b + c\n",
    "\n",
    "try:\n",
    "    result = sum(1, 2, 'a')\n",
    "    print('This should not print out')\n",
    "except NonIntArgumentException as e:\n",
    "    print('Hooray!')"
   ]
  }
 ],
 "metadata": {
  "kernelspec": {
   "display_name": "Python 3 (ipykernel)",
   "language": "python",
   "name": "python3"
  },
  "language_info": {
   "codemirror_mode": {
    "name": "ipython",
    "version": 3
   },
   "file_extension": ".py",
   "mimetype": "text/x-python",
   "name": "python",
   "nbconvert_exporter": "python",
   "pygments_lexer": "ipython3",
   "version": "3.12.1"
  },
  "vscode": {
   "interpreter": {
    "hash": "949777d72b0d2535278d3dc13498b2535136f6dfe0678499012e853ee9abcab1"
   }
  }
 },
 "nbformat": 4,
 "nbformat_minor": 5
}
