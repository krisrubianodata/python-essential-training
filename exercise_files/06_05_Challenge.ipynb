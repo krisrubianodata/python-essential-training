{
 "cells": [
  {
   "cell_type": "markdown",
   "id": "6aa3058e",
   "metadata": {},
   "source": [
    "## Sum of Triangles"
   ]
  },
  {
   "cell_type": "markdown",
   "id": "5af7d03e",
   "metadata": {},
   "source": [
    "You are given a function <code>triangle</code> that returns the <em>triangular number</em>, for a given number, <code>num</code>. Your goal is to use this to create a function called <code>square</code> that returns a the <em>square</em> of a given positive integer, <code>num</code>."
   ]
  },
  {
   "cell_type": "markdown",
   "id": "904577f5",
   "metadata": {},
   "source": [
    "<b>What are triangular numbers?</b>\n",
    "\n",
    "A triangular number is that number, plus all the numbers less than it.\n",
    "\n",
    "For example:\n",
    "triangle(3) = 3 + 2 + 1 = 6\n",
    "triangle(4) = 4 + 3 + 2 + 1 = 10\n",
    "\n",
    "These numbers are called triangular numbers, because you can arrange a count of 6 or 10 or 15, etc., objects as a triangle. In this example, we arrange 10 items as a triangle:\n",
    "\n",
    "```\n",
    "#\n",
    "##\n",
    "###\n",
    "####\n",
    "```\n",
    "\n",
    "The function <code>triangle</code> uses recursion in order to operate. You can see that it calls itself. You can learn more about recursion from <a rel=\"noopener noreferrer\" href=\"https://www.linkedin.com/learning/python-recursion/\" target=\"_blank\">this course.</a>"
   ]
  },
  {
   "cell_type": "markdown",
   "id": "394669ac",
   "metadata": {},
   "source": [
    "<b>What are square numbers?</b>\n",
    "\n",
    "The square of a number is that number to the second power, or n^2 (\"n squared\"). A number is said to be square if you can take the square root of it and get a whole integer (for example, 25, 36, 49)."
   ]
  },
  {
   "cell_type": "markdown",
   "id": "32406a68",
   "metadata": {},
   "source": [
    "<b>Your task</b>\n",
    "\n",
    "Fill in the function <code>square</code> that returns the square of a number using only the triangle function. No multiplication or exponents allowed!"
   ]
  },
  {
   "cell_type": "code",
   "execution_count": 1,
   "id": "a6818348",
   "metadata": {},
   "outputs": [],
   "source": [
    "def triangle(num):\n",
    "    if num == 1:\n",
    "        return num\n",
    "    return num + triangle(num - 1)\n",
    "\n",
    "def square(num):\n",
    "    return triangle(num) + triangle(num - 1)"
   ]
  },
  {
   "cell_type": "code",
   "execution_count": 2,
   "id": "e3fb6b4e",
   "metadata": {},
   "outputs": [
    {
     "data": {
      "text/plain": [
       "25"
      ]
     },
     "execution_count": 2,
     "metadata": {},
     "output_type": "execute_result"
    }
   ],
   "source": [
    "square(5)"
   ]
  },
  {
   "cell_type": "code",
   "execution_count": 3,
   "id": "b134ffbc",
   "metadata": {},
   "outputs": [
    {
     "data": {
      "text/plain": [
       "36"
      ]
     },
     "execution_count": 3,
     "metadata": {},
     "output_type": "execute_result"
    }
   ],
   "source": [
    "square(6)"
   ]
  }
 ],
 "metadata": {
  "kernelspec": {
   "display_name": "Python 3 (ipykernel)",
   "language": "python",
   "name": "python3"
  },
  "language_info": {
   "codemirror_mode": {
    "name": "ipython",
    "version": 3
   },
   "file_extension": ".py",
   "mimetype": "text/x-python",
   "name": "python",
   "nbconvert_exporter": "python",
   "pygments_lexer": "ipython3",
   "version": "3.12.1"
  },
  "vscode": {
   "interpreter": {
    "hash": "949777d72b0d2535278d3dc13498b2535136f6dfe0678499012e853ee9abcab1"
   }
  }
 },
 "nbformat": 4,
 "nbformat_minor": 5
}
